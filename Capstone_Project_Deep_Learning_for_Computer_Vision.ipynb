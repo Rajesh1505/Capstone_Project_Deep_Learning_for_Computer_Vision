{
  "nbformat": 4,
  "nbformat_minor": 0,
  "metadata": {
    "colab": {
      "provenance": [],
      "mount_file_id": "17v3fBu0As-a8uzIlSbjrW4w8Kn6RVa3S",
      "authorship_tag": "ABX9TyOwx2Tq9+bhxXr/9h+2M5pZ"
    },
    "kernelspec": {
      "name": "python3",
      "display_name": "Python 3"
    },
    "language_info": {
      "name": "python"
    }
  },
  "cells": [
    {
      "cell_type": "markdown",
      "source": [
        "# **Project Name**    - Facial Emotion Recognition Using Deep Learning\n",
        "\n"
      ],
      "metadata": {
        "id": "vncDsAP0Gaoa"
      }
    },
    {
      "cell_type": "markdown",
      "source": [
        "##### **Project Type**    - Deep Learning for Computer Vision\n",
        "##### **Contribution**    - Individual\n",
        "##### **Team Member 1 -** Rajesh Kumar Patel"
      ],
      "metadata": {
        "id": "beRrZCGUAJYm"
      }
    },
    {
      "cell_type": "markdown",
      "source": [
        "## **GitHub Link -** https://github.com/Rajesh1505/Capstone_Project_Deep_Learning_for_Computer_Vision.git"
      ],
      "metadata": {
        "id": "w6K7xa23Elo4"
      }
    },
    {
      "cell_type": "markdown",
      "source": [
        "# Project Title:\n",
        "**DeepFER: Facial Emotion Recognition Using Deep Learning**\n",
        "\n",
        "## Overview\n",
        "\n",
        "DeepFER: Facial Emotion Recognition Using Deep Learning aims to develop a robust and efficient system for recognizing emotions from facial expressions using advanced deep learning techniques. This project leverages Convolutional Neural Networks (CNNs) and Transfer Learning to accurately classify emotions such as happiness, sadness, anger, surprise, and more from images of human faces. The system will be trained on a diverse dataset of facial images, employing data augmentation and fine-tuning methods to enhance its performance. By integrating state-of-the-art computer vision algorithms and neural network architectures, DeepFER seeks to achieve high accuracy and real-time processing capabilities. The ultimate goal is to create a versatile tool that can be applied in various fields, including human-computer interaction, mental health monitoring, and customer service, enhancing the way machines understand and respond to human emotions.\n",
        "\n",
        "## Project Background\n",
        "\n",
        "Customer satisfaction in the e-commerce sector is a pivotal metric that influences loyalty, repeat business, and word-of-mouth marketing. Traditionally, companies have relied on direct surveys to gauge customer satisfaction, which can be time-consuming and may not always capture the full spectrum of customer experiences. With the advent of deep learning, it's now possible to predict customer satisfaction scores in real-time, offering a granular view of service performance and identifying areas for immediate improvement.\n",
        "\n",
        "In recent years, the field of facial emotion recognition has gained significant attention due to its wide range of applications in various domains, including mental health monitoring, human-computer interaction, customer service, and security. Emotion recognition from facial expressions is a challenging task, as it involves accurately identifying subtle differences in facial features corresponding to different emotional states. Traditional methods relied heavily on handcrafted features and rule-based approaches, which often lacked the ability to generalize across diverse datasets and real-world scenarios.\n",
        "\n",
        "The advent of deep learning, particularly Convolutional Neural Networks (CNNs), has revolutionized the way facial emotion recognition systems are developed. CNNs have demonstrated exceptional performance in image classification tasks by automatically learning hierarchical feature representations from raw data.\n",
        "\n",
        "This project, DeepFER: Facial Emotion Recognition Using Deep Learning, aims to harness the power of CNNs and Transfer Learning to build a robust and efficient facial emotion recognition system. By training the model on large, annotated datasets and employing advanced techniques such as data augmentation and fine-tuning, DeepFER aspires to achieve high accuracy and real-time processing capabilities.\n",
        "\n",
        "The motivation behind this project stems from the growing need for automated systems that can understand and respond to human emotions effectively. Such systems can significantly enhance user experiences in various applications, from interactive virtual assistants to personalized mental health interventions. DeepFER seeks to bridge the gap between advanced AI techniques and practical emotion recognition applications, paving the way for more intuitive and empathetic machine interactions with humans.\n",
        "\n",
        "## Dataset Overview\n",
        "\n",
        "- **Dataset Composition:**\n",
        "  - Contains images categorized into seven distinct emotion classes: angry, sad, happy, fear, neutral, disgust, and surprise.\n",
        "- **Emotion Classes:**\n",
        "  - **Angry:** Images depicting expressions of anger.\n",
        "  - **Sad:** Images depicting expressions of sadness.\n",
        "  - **Happy:** Images depicting expressions of happiness.\n",
        "  - **Fear:** Images depicting expressions of fear.\n",
        "  - **Neutral:** Images depicting neutral, non-expressive faces.\n",
        "  - **Disgust:** Images depicting expressions of disgust.\n",
        "  - **Surprise:** Images depicting expressions of surprise.\n",
        "\n",
        "- **Image Characteristics:**\n",
        "  - High-quality facial images with diverse backgrounds and lighting conditions.\n",
        "  - Includes both posed and spontaneous expressions to ensure robustness.\n",
        "- **Data Augmentation:**\n",
        "  - Techniques such as rotation, scaling, and flipping applied to increase dataset variability and enhance model generalization.\n",
        "- **Dataset Annotations:**\n",
        "  - Each image is labeled with its corresponding emotion class.\n",
        "- **Data Source:**\n",
        "  - Collected from publicly available facial expression databases and crowd-sourced contributions.\n",
        "- **Usage:**\n",
        "  - Used for training, validation, and testing phases in the emotion recognition model development.\n",
        "- **Purpose:**\n",
        "  - To train and evaluate the DeepFER model for accurate and real-time facial emotion recognition across diverse scenarios.\n",
        "\n",
        "\n",
        "---\n",
        "\n",
        "\n",
        "## Project Goal\n",
        "\n",
        "The primary goal of **DeepFER: Facial Emotion Recognition Using Deep Learning** is to develop an advanced and efficient system capable of accurately identifying and classifying human emotions from facial expressions in real-time. By leveraging state-of-the-art Convolutional Neural Networks (CNNs) and Transfer Learning techniques, this project aims to create a robust model that can handle the inherent variability in facial expressions and diverse image conditions. The system will be trained on a comprehensive dataset featuring seven distinct emotions: angry, sad, happy, fear, neutral, disgust, and surprise. The ultimate objective is to achieve high accuracy and reliability, making DeepFER suitable for applications in human-computer interaction, mental health monitoring, customer service, and beyond. Through this project, we aim to bridge the gap between cutting-edge AI research and practical emotion recognition applications, contributing to more empathetic and responsive machine interactions with humans."
      ],
      "metadata": {
        "id": "p7HXLDicwnd8"
      }
    },
    {
      "cell_type": "markdown",
      "source": [
        "# ***Let's Begin !***"
      ],
      "metadata": {
        "id": "O_i_v8NEhb9l"
      }
    },
    {
      "cell_type": "markdown",
      "source": [
        "## ***Know Your Data***"
      ],
      "metadata": {
        "id": "HhfV-JJviCcP"
      }
    },
    {
      "cell_type": "markdown",
      "source": [
        "### Import Libraries"
      ],
      "metadata": {
        "id": "Y3lxredqlCYt"
      }
    },
    {
      "cell_type": "code",
      "execution_count": 1,
      "metadata": {
        "id": "vGf7eJrIwbS_"
      },
      "outputs": [],
      "source": [
        "# Import necessary libraries\n",
        "import matplotlib.pyplot as plt\n",
        "import os\n",
        "from pathlib import Path\n",
        "from collections import Counter\n",
        "\n",
        "import warnings\n",
        "warnings.filterwarnings(\"ignore\")"
      ]
    },
    {
      "cell_type": "markdown",
      "source": [
        "### Data Loading"
      ],
      "metadata": {
        "id": "RO6hcq83tl42"
      }
    },
    {
      "cell_type": "code",
      "source": [
        "folder_path = \"/content/drive/MyDrive/Colab Notebooks/AB/spec/M5/project/\"\n",
        "\n",
        "!unzip \"/content/drive/MyDrive/Colab Notebooks/AB/spec/M5/project/Face_Emotion_Recognition_Dataset.zip\" > /dev/null"
      ],
      "metadata": {
        "id": "yh-UsW6mdTq8"
      },
      "execution_count": 2,
      "outputs": []
    },
    {
      "cell_type": "markdown",
      "source": [
        "### Data First View"
      ],
      "metadata": {
        "id": "BFyTpOu2t1uW"
      }
    },
    {
      "cell_type": "code",
      "source": [
        "train_dir = \"/content/images/images/train\"\n",
        "val_dir = \"/content/images/images/validation\"\n",
        "\n",
        "all_class_names = os.listdir(train_dir)\n",
        "print(all_class_names)"
      ],
      "metadata": {
        "colab": {
          "base_uri": "https://localhost:8080/"
        },
        "id": "v8ckZbRydpbL",
        "outputId": "cc0f8c93-c0de-4588-f1f2-ebf8da9c406a"
      },
      "execution_count": 3,
      "outputs": [
        {
          "output_type": "stream",
          "name": "stdout",
          "text": [
            "['angry', 'surprise', 'happy', 'disgust', 'fear', 'neutral', 'sad']\n"
          ]
        }
      ]
    },
    {
      "cell_type": "code",
      "source": [
        "# display one image from each class\n",
        "from fastai.vision.core import PILImage\n",
        "\n",
        "# Convert train_dir to a Path object\n",
        "train_dir_ = Path(train_dir)\n",
        "fig, axes = plt.subplots(1, len(all_class_names), figsize=(15, 5))\n",
        "\n",
        "for ax, cls in zip(axes, all_class_names):\n",
        "    class_path = train_dir_ / cls\n",
        "    img_path = list(class_path.glob(\"*\"))[0]\n",
        "\n",
        "    img = PILImage.create(img_path)\n",
        "    ax.imshow(img)\n",
        "    ax.set_title(cls)\n",
        "    ax.axis('off')\n",
        "\n",
        "plt.tight_layout()\n",
        "plt.show()"
      ],
      "metadata": {
        "colab": {
          "base_uri": "https://localhost:8080/",
          "height": 244
        },
        "id": "lZiuoPJshMz3",
        "outputId": "4988f779-131f-47dc-f583-45c55e77c1bb"
      },
      "execution_count": 4,
      "outputs": [
        {
          "output_type": "display_data",
          "data": {
            "text/plain": [
              "<Figure size 1500x500 with 7 Axes>"
            ],
            "image/png": "[encoded data removed]"
          },
          "metadata": {}
        }
      ]
    },
    {
      "cell_type": "code",
      "source": [
        "# Function to count images in each class and calculate percentages\n",
        "def count_images_with_percentage(directory):\n",
        "    class_counts = {}\n",
        "    total_images = 0\n",
        "\n",
        "    for class_name in os.listdir(directory):\n",
        "        class_path = os.path.join(directory, class_name)\n",
        "        if os.path.isdir(class_path):\n",
        "            count = len(os.listdir(class_path))\n",
        "            class_counts[class_name] = count\n",
        "            total_images += count\n",
        "\n",
        "    class_percentages = {class_name: (count / total_images) * 100 for class_name, count in class_counts.items()}\n",
        "    return class_counts, class_percentages, total_images\n",
        "\n",
        "\n",
        "train_class_counts, train_class_percentages, train_total = count_images_with_percentage(train_dir)\n",
        "val_class_counts, val_class_percentages, val_total = count_images_with_percentage(val_dir)\n",
        "\n",
        "print(\"Training Set:\")\n",
        "print(f\"Total images: {train_total}\")\n",
        "for class_name in sorted(train_class_counts):\n",
        "    print(f\"{class_name}: {train_class_counts[class_name]} images ({train_class_percentages[class_name]:.2f}%)\")\n",
        "\n",
        "print(\"\\nValidation Set:\")\n",
        "print(f\"Total images: {val_total}\")\n",
        "for class_name in sorted(val_class_counts):\n",
        "    print(f\"{class_name}: {val_class_counts[class_name]} images ({val_class_percentages[class_name]:.2f}%)\")\n"
      ],
      "metadata": {
        "colab": {
          "base_uri": "https://localhost:8080/"
        },
        "id": "q8zDi0egvC0l",
        "outputId": "73bd3ccf-b426-422f-abfb-9d63d30a786c"
      },
      "execution_count": 5,
      "outputs": [
        {
          "output_type": "stream",
          "name": "stdout",
          "text": [
            "Training Set:\n",
            "Total images: 28821\n",
            "angry: 3993 images (13.85%)\n",
            "disgust: 436 images (1.51%)\n",
            "fear: 4103 images (14.24%)\n",
            "happy: 7164 images (24.86%)\n",
            "neutral: 4982 images (17.29%)\n",
            "sad: 4938 images (17.13%)\n",
            "surprise: 3205 images (11.12%)\n",
            "\n",
            "Validation Set:\n",
            "Total images: 7066\n",
            "angry: 960 images (13.59%)\n",
            "disgust: 111 images (1.57%)\n",
            "fear: 1018 images (14.41%)\n",
            "happy: 1825 images (25.83%)\n",
            "neutral: 1216 images (17.21%)\n",
            "sad: 1139 images (16.12%)\n",
            "surprise: 797 images (11.28%)\n"
          ]
        }
      ]
    },
    {
      "cell_type": "code",
      "source": [
        "from PIL import Image\n",
        "\n",
        "image_dir = \"/content/images/images/train\"\n",
        "\n",
        "# Function to get image sizes\n",
        "def get_image_sizes(directory):\n",
        "    image_sizes = []\n",
        "    for class_name in os.listdir(directory):\n",
        "        class_path = os.path.join(directory, class_name)\n",
        "        if os.path.isdir(class_path):\n",
        "            for image_name in os.listdir(class_path):\n",
        "                image_path = os.path.join(class_path, image_name)\n",
        "                try:\n",
        "                    with Image.open(image_path) as img:\n",
        "                        image_sizes.append(img.size)  # (width, height)\n",
        "                except Exception as e:\n",
        "                    print(f\"Error reading {image_path}: {e}\")\n",
        "    return image_sizes\n",
        "\n",
        "\n",
        "sizes = get_image_sizes(image_dir)\n",
        "\n",
        "\n",
        "print(f\"Total images checked: {len(sizes)}\")\n",
        "print(f\"First 5 image sizes: {sizes[:5]}\")\n"
      ],
      "metadata": {
        "colab": {
          "base_uri": "https://localhost:8080/"
        },
        "id": "e53pICDEyjW5",
        "outputId": "b554bd31-cc70-485e-9097-de47c88db352"
      },
      "execution_count": 6,
      "outputs": [
        {
          "output_type": "stream",
          "name": "stdout",
          "text": [
            "Total images checked: 28821\n",
            "First 5 image sizes: [(48, 48), (48, 48), (48, 48), (48, 48), (48, 48)]\n"
          ]
        }
      ]
    },
    {
      "cell_type": "code",
      "source": [
        "# Count unique image sizes\n",
        "size_counts = Counter(sizes)\n",
        "print(\"All image size distribution:\")\n",
        "for size, count in size_counts.items():\n",
        "    print(f\"Size {size}: {count} images\")\n"
      ],
      "metadata": {
        "colab": {
          "base_uri": "https://localhost:8080/"
        },
        "id": "axnJLCxOyj7R",
        "outputId": "af24be82-4028-4077-89c8-5d63fba5a633"
      },
      "execution_count": 7,
      "outputs": [
        {
          "output_type": "stream",
          "name": "stdout",
          "text": [
            "All image size distribution:\n",
            "Size (48, 48): 28821 images\n"
          ]
        }
      ]
    },
    {
      "cell_type": "markdown",
      "source": [
        "#### Summary of Data:\n",
        "- **Classes**: The dataset contains 7 classes: `['angry', 'surprise', 'happy', 'disgust', 'fear', 'neutral', 'sad']`.\n",
        "- **Total Train Images**: 28,821 images.\n",
        "- **Image Size**: All images are uniformly sized at **48x48 pixels**.\n",
        "- **Image Mode**: Grayscale (`L`), meaning each image has a single channel (shape: `48x48x1`).\n",
        "- **Class Distribution**:\n",
        "  - The `happy` class has the highest representation, comprising approximately 25% of the dataset.\n",
        "  - The `disgust` class has the lowest representation, contributing around 1.5% of the dataset.\n",
        "\n",
        "This dataset is well-suited for tasks such as facial emotion recognition and is already preprocessed to a consistent size and format."
      ],
      "metadata": {
        "id": "gcdr9gdr1b-M"
      }
    },
    {
      "cell_type": "markdown",
      "source": [
        "## ***Model Implementation***"
      ],
      "metadata": {
        "id": "VfCC591jGiD4"
      }
    },
    {
      "cell_type": "markdown",
      "source": [
        "### Model - 1"
      ],
      "metadata": {
        "id": "OB4l2ZhMeS1U"
      }
    },
    {
      "cell_type": "code",
      "source": [
        "# Import necessary libraries\n",
        "import pandas as pd\n",
        "import numpy as np\n",
        "import os\n",
        "from tensorflow.keras.preprocessing import image\n",
        "from tensorflow.keras.applications import ResNet50\n",
        "from sklearn.model_selection import train_test_split\n",
        "from sklearn.metrics import f1_score\n",
        "from tensorflow.keras.models import Sequential\n",
        "from tensorflow.keras.layers import Flatten, Dense, Dropout, Conv2D, MaxPooling2D\n",
        "from tensorflow.keras.optimizers import Adam\n",
        "from tensorflow.keras.callbacks import EarlyStopping\n",
        "\n",
        "# Data paths and details\n",
        "train_images_path = \"/content/images/images/train\"\n",
        "val_images_path = \"/content/images/images/validation\""
      ],
      "metadata": {
        "id": "sfAr5-X2674a"
      },
      "execution_count": 8,
      "outputs": []
    },
    {
      "cell_type": "code",
      "source": [
        "# Define labels\n",
        "all_class_names = ['angry', 'surprise', 'happy', 'disgust', 'fear', 'neutral', 'sad']\n",
        "class_to_label = {class_name: idx for idx, class_name in enumerate(all_class_names)}"
      ],
      "metadata": {
        "id": "bF7g-K5A68zw"
      },
      "execution_count": 9,
      "outputs": []
    },
    {
      "cell_type": "code",
      "source": [
        "# Image processing function\n",
        "def process_image(img_path):\n",
        "    img = image.load_img(img_path, target_size=(48, 48), color_mode='grayscale')\n",
        "    img = image.img_to_array(img)\n",
        "    img = img / 255.0  # Normalize to [0, 1]\n",
        "    return img\n",
        "\n",
        "# Load and preprocess images\n",
        "def load_data(image_dir, class_to_label):\n",
        "    data = []\n",
        "    labels = []\n",
        "    for class_name, label in class_to_label.items():\n",
        "        class_dir = os.path.join(image_dir, class_name)\n",
        "        for img_name in os.listdir(class_dir):\n",
        "            img_path = os.path.join(class_dir, img_name)\n",
        "            try:\n",
        "                processed_img = process_image(img_path)\n",
        "                data.append(processed_img)\n",
        "                labels.append(label)\n",
        "            except Exception as e:\n",
        "                print(f\"Error processing image {img_path}: {e}\")\n",
        "    return np.array(data), np.array(labels)\n"
      ],
      "metadata": {
        "id": "cFRkdS6I7ACa"
      },
      "execution_count": 10,
      "outputs": []
    },
    {
      "cell_type": "code",
      "source": [
        "# Load training and validation data\n",
        "train_images, train_labels = load_data(train_images_path, class_to_label)\n",
        "val_images, val_labels = load_data(val_images_path, class_to_label)\n",
        "\n",
        "# Reshape data to include the channel dimension\n",
        "train_images = train_images.reshape(-1, 48, 48, 1)\n",
        "val_images = val_images.reshape(-1, 48, 48, 1)"
      ],
      "metadata": {
        "id": "5nSpK05F7K6O"
      },
      "execution_count": 11,
      "outputs": []
    },
    {
      "cell_type": "code",
      "source": [
        "# Model Building\n",
        "model = Sequential([\n",
        "    Conv2D(32, (3, 3), activation='relu', input_shape=(48, 48, 1)),\n",
        "    MaxPooling2D((2, 2)),\n",
        "    Conv2D(64, (3, 3), activation='relu'),\n",
        "    MaxPooling2D((2, 2)),\n",
        "    Flatten(),\n",
        "    Dense(256, activation='relu'),\n",
        "    Dropout(0.5),\n",
        "    Dense(7, activation='softmax')  # 7 classes for emotions\n",
        "])"
      ],
      "metadata": {
        "id": "F_UlIr_X7RcI"
      },
      "execution_count": 12,
      "outputs": []
    },
    {
      "cell_type": "code",
      "source": [
        "model.summary()"
      ],
      "metadata": {
        "colab": {
          "base_uri": "https://localhost:8080/",
          "height": 385
        },
        "id": "9mSzB63w9cv7",
        "outputId": "0cca724d-cae2-4632-c357-c5b9d5bfc07f"
      },
      "execution_count": 13,
      "outputs": [
        {
          "output_type": "display_data",
          "data": {
            "text/plain": [
              "\u001b[1mModel: \"sequential\"\u001b[0m\n"
            ],
            "text/html": [
              "<pre style=\"white-space:pre;overflow-x:auto;line-height:normal;font-family:Menlo,'DejaVu Sans Mono',consolas,'Courier New',monospace\"><span style=\"font-weight: bold\">Model: \"sequential\"</span>\n",
              "</pre>\n"
            ]
          },
          "metadata": {}
        },
        {
          "output_type": "display_data",
          "data": {
            "text/plain": [
              "┏━━━━━━━━━━━━━━━━━━━━━━━━━━━━━━━━━━━━━━┳━━━━━━━━━━━━━━━━━━━━━━━━━━━━━┳━━━━━━━━━━━━━━━━━┓\n",
              "┃\u001b[1m \u001b[0m\u001b[1mLayer (type)                        \u001b[0m\u001b[1m \u001b[0m┃\u001b[1m \u001b[0m\u001b[1mOutput Shape               \u001b[0m\u001b[1m \u001b[0m┃\u001b[1m \u001b[0m\u001b[1m        Param #\u001b[0m\u001b[1m \u001b[0m┃\n",
              "┡━━━━━━━━━━━━━━━━━━━━━━━━━━━━━━━━━━━━━━╇━━━━━━━━━━━━━━━━━━━━━━━━━━━━━╇━━━━━━━━━━━━━━━━━┩\n",
              "│ conv2d (\u001b[38;5;33mConv2D\u001b[0m)                      │ (\u001b[38;5;45mNone\u001b[0m, \u001b[38;5;34m46\u001b[0m, \u001b[38;5;34m46\u001b[0m, \u001b[38;5;34m32\u001b[0m)          │             \u001b[38;5;34m320\u001b[0m │\n",
              "├──────────────────────────────────────┼─────────────────────────────┼─────────────────┤\n",
              "│ max_pooling2d (\u001b[38;5;33mMaxPooling2D\u001b[0m)         │ (\u001b[38;5;45mNone\u001b[0m, \u001b[38;5;34m23\u001b[0m, \u001b[38;5;34m23\u001b[0m, \u001b[38;5;34m32\u001b[0m)          │               \u001b[38;5;34m0\u001b[0m │\n",
              "├──────────────────────────────────────┼─────────────────────────────┼─────────────────┤\n",
              "│ conv2d_1 (\u001b[38;5;33mConv2D\u001b[0m)                    │ (\u001b[38;5;45mNone\u001b[0m, \u001b[38;5;34m21\u001b[0m, \u001b[38;5;34m21\u001b[0m, \u001b[38;5;34m64\u001b[0m)          │          \u001b[38;5;34m18,496\u001b[0m │\n",
              "├──────────────────────────────────────┼─────────────────────────────┼─────────────────┤\n",
              "│ max_pooling2d_1 (\u001b[38;5;33mMaxPooling2D\u001b[0m)       │ (\u001b[38;5;45mNone\u001b[0m, \u001b[38;5;34m10\u001b[0m, \u001b[38;5;34m10\u001b[0m, \u001b[38;5;34m64\u001b[0m)          │               \u001b[38;5;34m0\u001b[0m │\n",
              "├──────────────────────────────────────┼─────────────────────────────┼─────────────────┤\n",
              "│ flatten (\u001b[38;5;33mFlatten\u001b[0m)                    │ (\u001b[38;5;45mNone\u001b[0m, \u001b[38;5;34m6400\u001b[0m)                │               \u001b[38;5;34m0\u001b[0m │\n",
              "├──────────────────────────────────────┼─────────────────────────────┼─────────────────┤\n",
              "│ dense (\u001b[38;5;33mDense\u001b[0m)                        │ (\u001b[38;5;45mNone\u001b[0m, \u001b[38;5;34m256\u001b[0m)                 │       \u001b[38;5;34m1,638,656\u001b[0m │\n",
              "├──────────────────────────────────────┼─────────────────────────────┼─────────────────┤\n",
              "│ dropout (\u001b[38;5;33mDropout\u001b[0m)                    │ (\u001b[38;5;45mNone\u001b[0m, \u001b[38;5;34m256\u001b[0m)                 │               \u001b[38;5;34m0\u001b[0m │\n",
              "├──────────────────────────────────────┼─────────────────────────────┼─────────────────┤\n",
              "│ dense_1 (\u001b[38;5;33mDense\u001b[0m)                      │ (\u001b[38;5;45mNone\u001b[0m, \u001b[38;5;34m7\u001b[0m)                   │           \u001b[38;5;34m1,799\u001b[0m │\n",
              "└──────────────────────────────────────┴─────────────────────────────┴─────────────────┘\n"
            ],
            "text/html": [
              "<pre style=\"white-space:pre;overflow-x:auto;line-height:normal;font-family:Menlo,'DejaVu Sans Mono',consolas,'Courier New',monospace\">┏━━━━━━━━━━━━━━━━━━━━━━━━━━━━━━━━━━━━━━┳━━━━━━━━━━━━━━━━━━━━━━━━━━━━━┳━━━━━━━━━━━━━━━━━┓\n",
              "┃<span style=\"font-weight: bold\"> Layer (type)                         </span>┃<span style=\"font-weight: bold\"> Output Shape                </span>┃<span style=\"font-weight: bold\">         Param # </span>┃\n",
              "┡━━━━━━━━━━━━━━━━━━━━━━━━━━━━━━━━━━━━━━╇━━━━━━━━━━━━━━━━━━━━━━━━━━━━━╇━━━━━━━━━━━━━━━━━┩\n",
              "│ conv2d (<span style=\"color: #0087ff; text-decoration-color: #0087ff\">Conv2D</span>)                      │ (<span style=\"color: #00d7ff; text-decoration-color: #00d7ff\">None</span>, <span style=\"color: #00af00; text-decoration-color: #00af00\">46</span>, <span style=\"color: #00af00; text-decoration-color: #00af00\">46</span>, <span style=\"color: #00af00; text-decoration-color: #00af00\">32</span>)          │             <span style=\"color: #00af00; text-decoration-color: #00af00\">320</span> │\n",
              "├──────────────────────────────────────┼─────────────────────────────┼─────────────────┤\n",
              "│ max_pooling2d (<span style=\"color: #0087ff; text-decoration-color: #0087ff\">MaxPooling2D</span>)         │ (<span style=\"color: #00d7ff; text-decoration-color: #00d7ff\">None</span>, <span style=\"color: #00af00; text-decoration-color: #00af00\">23</span>, <span style=\"color: #00af00; text-decoration-color: #00af00\">23</span>, <span style=\"color: #00af00; text-decoration-color: #00af00\">32</span>)          │               <span style=\"color: #00af00; text-decoration-color: #00af00\">0</span> │\n",
              "├──────────────────────────────────────┼─────────────────────────────┼─────────────────┤\n",
              "│ conv2d_1 (<span style=\"color: #0087ff; text-decoration-color: #0087ff\">Conv2D</span>)                    │ (<span style=\"color: #00d7ff; text-decoration-color: #00d7ff\">None</span>, <span style=\"color: #00af00; text-decoration-color: #00af00\">21</span>, <span style=\"color: #00af00; text-decoration-color: #00af00\">21</span>, <span style=\"color: #00af00; text-decoration-color: #00af00\">64</span>)          │          <span style=\"color: #00af00; text-decoration-color: #00af00\">18,496</span> │\n",
              "├──────────────────────────────────────┼─────────────────────────────┼─────────────────┤\n",
              "│ max_pooling2d_1 (<span style=\"color: #0087ff; text-decoration-color: #0087ff\">MaxPooling2D</span>)       │ (<span style=\"color: #00d7ff; text-decoration-color: #00d7ff\">None</span>, <span style=\"color: #00af00; text-decoration-color: #00af00\">10</span>, <span style=\"color: #00af00; text-decoration-color: #00af00\">10</span>, <span style=\"color: #00af00; text-decoration-color: #00af00\">64</span>)          │               <span style=\"color: #00af00; text-decoration-color: #00af00\">0</span> │\n",
              "├──────────────────────────────────────┼─────────────────────────────┼─────────────────┤\n",
              "│ flatten (<span style=\"color: #0087ff; text-decoration-color: #0087ff\">Flatten</span>)                    │ (<span style=\"color: #00d7ff; text-decoration-color: #00d7ff\">None</span>, <span style=\"color: #00af00; text-decoration-color: #00af00\">6400</span>)                │               <span style=\"color: #00af00; text-decoration-color: #00af00\">0</span> │\n",
              "├──────────────────────────────────────┼─────────────────────────────┼─────────────────┤\n",
              "│ dense (<span style=\"color: #0087ff; text-decoration-color: #0087ff\">Dense</span>)                        │ (<span style=\"color: #00d7ff; text-decoration-color: #00d7ff\">None</span>, <span style=\"color: #00af00; text-decoration-color: #00af00\">256</span>)                 │       <span style=\"color: #00af00; text-decoration-color: #00af00\">1,638,656</span> │\n",
              "├──────────────────────────────────────┼─────────────────────────────┼─────────────────┤\n",
              "│ dropout (<span style=\"color: #0087ff; text-decoration-color: #0087ff\">Dropout</span>)                    │ (<span style=\"color: #00d7ff; text-decoration-color: #00d7ff\">None</span>, <span style=\"color: #00af00; text-decoration-color: #00af00\">256</span>)                 │               <span style=\"color: #00af00; text-decoration-color: #00af00\">0</span> │\n",
              "├──────────────────────────────────────┼─────────────────────────────┼─────────────────┤\n",
              "│ dense_1 (<span style=\"color: #0087ff; text-decoration-color: #0087ff\">Dense</span>)                      │ (<span style=\"color: #00d7ff; text-decoration-color: #00d7ff\">None</span>, <span style=\"color: #00af00; text-decoration-color: #00af00\">7</span>)                   │           <span style=\"color: #00af00; text-decoration-color: #00af00\">1,799</span> │\n",
              "└──────────────────────────────────────┴─────────────────────────────┴─────────────────┘\n",
              "</pre>\n"
            ]
          },
          "metadata": {}
        },
        {
          "output_type": "display_data",
          "data": {
            "text/plain": [
              "\u001b[1m Total params: \u001b[0m\u001b[38;5;34m1,659,271\u001b[0m (6.33 MB)\n"
            ],
            "text/html": [
              "<pre style=\"white-space:pre;overflow-x:auto;line-height:normal;font-family:Menlo,'DejaVu Sans Mono',consolas,'Courier New',monospace\"><span style=\"font-weight: bold\"> Total params: </span><span style=\"color: #00af00; text-decoration-color: #00af00\">1,659,271</span> (6.33 MB)\n",
              "</pre>\n"
            ]
          },
          "metadata": {}
        },
        {
          "output_type": "display_data",
          "data": {
            "text/plain": [
              "\u001b[1m Trainable params: \u001b[0m\u001b[38;5;34m1,659,271\u001b[0m (6.33 MB)\n"
            ],
            "text/html": [
              "<pre style=\"white-space:pre;overflow-x:auto;line-height:normal;font-family:Menlo,'DejaVu Sans Mono',consolas,'Courier New',monospace\"><span style=\"font-weight: bold\"> Trainable params: </span><span style=\"color: #00af00; text-decoration-color: #00af00\">1,659,271</span> (6.33 MB)\n",
              "</pre>\n"
            ]
          },
          "metadata": {}
        },
        {
          "output_type": "display_data",
          "data": {
            "text/plain": [
              "\u001b[1m Non-trainable params: \u001b[0m\u001b[38;5;34m0\u001b[0m (0.00 B)\n"
            ],
            "text/html": [
              "<pre style=\"white-space:pre;overflow-x:auto;line-height:normal;font-family:Menlo,'DejaVu Sans Mono',consolas,'Courier New',monospace\"><span style=\"font-weight: bold\"> Non-trainable params: </span><span style=\"color: #00af00; text-decoration-color: #00af00\">0</span> (0.00 B)\n",
              "</pre>\n"
            ]
          },
          "metadata": {}
        }
      ]
    },
    {
      "cell_type": "code",
      "source": [
        "# Compile the model\n",
        "model.compile(optimizer=Adam(learning_rate=0.0001), loss='sparse_categorical_crossentropy', metrics=['accuracy'])"
      ],
      "metadata": {
        "id": "n07ks4Xd7cRG"
      },
      "execution_count": 14,
      "outputs": []
    },
    {
      "cell_type": "code",
      "source": [
        "early_stopping = EarlyStopping(monitor='val_loss', patience=3, restore_best_weights=True)\n",
        "\n",
        "# Train the model\n",
        "model.fit(train_images, train_labels, validation_data=(val_images, val_labels), epochs=11, batch_size=32, callbacks=[early_stopping])\n"
      ],
      "metadata": {
        "colab": {
          "base_uri": "https://localhost:8080/"
        },
        "id": "RuHwWjE08wey",
        "outputId": "e7facc54-f0e8-4546-f0c0-6daaad757508"
      },
      "execution_count": 15,
      "outputs": [
        {
          "output_type": "stream",
          "name": "stdout",
          "text": [
            "Epoch 1/11\n",
            "\u001b[1m901/901\u001b[0m \u001b[32m━━━━━━━━━━━━━━━━━━━━\u001b[0m\u001b[37m\u001b[0m \u001b[1m97s\u001b[0m 106ms/step - accuracy: 0.2589 - loss: 1.8022 - val_accuracy: 0.3909 - val_loss: 1.6159\n",
            "Epoch 2/11\n",
            "\u001b[1m901/901\u001b[0m \u001b[32m━━━━━━━━━━━━━━━━━━━━\u001b[0m\u001b[37m\u001b[0m \u001b[1m144s\u001b[0m 109ms/step - accuracy: 0.3776 - loss: 1.6125 - val_accuracy: 0.4190 - val_loss: 1.5318\n",
            "Epoch 3/11\n",
            "\u001b[1m901/901\u001b[0m \u001b[32m━━━━━━━━━━━━━━━━━━━━\u001b[0m\u001b[37m\u001b[0m \u001b[1m99s\u001b[0m 110ms/step - accuracy: 0.4142 - loss: 1.5291 - val_accuracy: 0.4416 - val_loss: 1.4755\n",
            "Epoch 4/11\n",
            "\u001b[1m901/901\u001b[0m \u001b[32m━━━━━━━━━━━━━━━━━━━━\u001b[0m\u001b[37m\u001b[0m \u001b[1m140s\u001b[0m 108ms/step - accuracy: 0.4267 - loss: 1.4871 - val_accuracy: 0.4558 - val_loss: 1.4331\n",
            "Epoch 5/11\n",
            "\u001b[1m901/901\u001b[0m \u001b[32m━━━━━━━━━━━━━━━━━━━━\u001b[0m\u001b[37m\u001b[0m \u001b[1m100s\u001b[0m 110ms/step - accuracy: 0.4543 - loss: 1.4371 - val_accuracy: 0.4649 - val_loss: 1.4035\n",
            "Epoch 6/11\n",
            "\u001b[1m901/901\u001b[0m \u001b[32m━━━━━━━━━━━━━━━━━━━━\u001b[0m\u001b[37m\u001b[0m \u001b[1m139s\u001b[0m 108ms/step - accuracy: 0.4737 - loss: 1.3997 - val_accuracy: 0.4734 - val_loss: 1.3796\n",
            "Epoch 7/11\n",
            "\u001b[1m901/901\u001b[0m \u001b[32m━━━━━━━━━━━━━━━━━━━━\u001b[0m\u001b[37m\u001b[0m \u001b[1m100s\u001b[0m 111ms/step - accuracy: 0.4796 - loss: 1.3708 - val_accuracy: 0.4836 - val_loss: 1.3723\n",
            "Epoch 8/11\n",
            "\u001b[1m901/901\u001b[0m \u001b[32m━━━━━━━━━━━━━━━━━━━━\u001b[0m\u001b[37m\u001b[0m \u001b[1m97s\u001b[0m 107ms/step - accuracy: 0.4893 - loss: 1.3461 - val_accuracy: 0.4909 - val_loss: 1.3411\n",
            "Epoch 9/11\n",
            "\u001b[1m901/901\u001b[0m \u001b[32m━━━━━━━━━━━━━━━━━━━━\u001b[0m\u001b[37m\u001b[0m \u001b[1m97s\u001b[0m 108ms/step - accuracy: 0.5053 - loss: 1.3119 - val_accuracy: 0.4959 - val_loss: 1.3239\n",
            "Epoch 10/11\n",
            "\u001b[1m901/901\u001b[0m \u001b[32m━━━━━━━━━━━━━━━━━━━━\u001b[0m\u001b[37m\u001b[0m \u001b[1m143s\u001b[0m 109ms/step - accuracy: 0.5143 - loss: 1.2911 - val_accuracy: 0.5044 - val_loss: 1.3120\n",
            "Epoch 11/11\n",
            "\u001b[1m901/901\u001b[0m \u001b[32m━━━━━━━━━━━━━━━━━━━━\u001b[0m\u001b[37m\u001b[0m \u001b[1m100s\u001b[0m 111ms/step - accuracy: 0.5221 - loss: 1.2623 - val_accuracy: 0.5004 - val_loss: 1.3052\n"
          ]
        },
        {
          "output_type": "execute_result",
          "data": {
            "text/plain": [
              "<keras.src.callbacks.history.History at 0x7bb7d0538f40>"
            ]
          },
          "metadata": {},
          "execution_count": 15
        }
      ]
    },
    {
      "cell_type": "code",
      "source": [
        "# Save the model\n",
        "model.save(folder_path+'deep_fer_model_1.keras')"
      ],
      "metadata": {
        "id": "De92HZJv9gaj"
      },
      "execution_count": 16,
      "outputs": []
    },
    {
      "cell_type": "code",
      "source": [
        "# Save the model\n",
        "model.save(folder_path+'deep_fer_model_1.h5')"
      ],
      "metadata": {
        "colab": {
          "base_uri": "https://localhost:8080/"
        },
        "id": "heIPLAKE9icF",
        "outputId": "4026797b-e7dc-4efb-db74-9faf071f9060"
      },
      "execution_count": 17,
      "outputs": [
        {
          "output_type": "stream",
          "name": "stderr",
          "text": [
            "WARNING:absl:You are saving your model as an HDF5 file via `model.save()` or `keras.saving.save_model(model)`. This file format is considered legacy. We recommend using instead the native Keras format, e.g. `model.save('my_model.keras')` or `keras.saving.save_model(model, 'my_model.keras')`. \n"
          ]
        }
      ]
    },
    {
      "cell_type": "code",
      "source": [],
      "metadata": {
        "id": "QYEfkvyv-Jyf"
      },
      "execution_count": null,
      "outputs": []
    }
  ]
}